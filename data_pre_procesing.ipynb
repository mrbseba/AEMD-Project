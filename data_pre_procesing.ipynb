{
 "cells": [
  {
   "cell_type": "code",
   "execution_count": null,
   "id": "eb288e62",
   "metadata": {},
   "outputs": [],
   "source": [
    "# create test excell\n",
    "import pandas as pd\n",
    "\n",
    "# create a dictionary with the data\n",
    "data = {'date': ['01/01/2021', '01/02/2021', '01/03/2021'],\n",
    "        'price': [10, 20, 15]}\n",
    "\n",
    "# convert the dictionary to a DataFrame\n",
    "df = pd.DataFrame(data)\n",
    "\n",
    "# save the DataFrame to a CSV file\n",
    "df.to_csv('silver_prices.csv', index=False)"
   ]
  },
  {
   "cell_type": "code",
   "execution_count": null,
   "id": "6450cf58",
   "metadata": {},
   "outputs": [],
   "source": [
    "# add the common after date\n",
    "import re\n",
    "\n",
    "# Open the file for reading\n",
    "with open(\"date.txt\", \"r\") as file:\n",
    "    # Read the contents of the file\n",
    "    text = file.read()\n",
    "    \n",
    "# Use a regular expression to find all dates in the text\n",
    "dates = re.findall(r'(?:0[1-9]|[12][0-9]|3[01])[-/.](?:0[1-9]|1[012])[-/.](?:19\\d{2}|20[01][0-9]|2020|2021|2022)', text)\n",
    "\n",
    "# Iterate through the dates and add \"common\" after each one\n",
    "for date in dates:\n",
    "    text = text.replace(date, date + \",\")\n",
    "\n",
    "# Open the file for writing\n",
    "with open(\"date.txt\", \"w\") as file:\n",
    "    # Write the modified text to the file\n",
    "    file.write(text)\n",
    "\n",
    "# Close the file\n",
    "file.close()"
   ]
  },
  {
   "cell_type": "code",
   "execution_count": null,
   "id": "d5c53c9e",
   "metadata": {},
   "outputs": [],
   "source": [
    "# open the file for reading - verify if all is corectly done\n",
    "with open(\"date.txt\", \"r\") as file:\n",
    "    # Read the contents of the file\n",
    "    text = file.read()\n",
    "print(text)"
   ]
  },
  {
   "cell_type": "code",
   "execution_count": null,
   "id": "614a2575",
   "metadata": {},
   "outputs": [],
   "source": [
    "# open the file for reading - check the preice data\n",
    "with open(\"price.txt\", \"r\") as file:\n",
    "    # Read the contents of the file\n",
    "    text = file.read()\n",
    "print(text)"
   ]
  },
  {
   "cell_type": "code",
   "execution_count": null,
   "id": "8fca27dd",
   "metadata": {},
   "outputs": [],
   "source": [
    "# replace the common with dot\n",
    "# Open the file and read its contents\n",
    "with open(\"price.txt\", \"r\") as file:\n",
    "    data = file.read()\n",
    "\n",
    "# Replace all occurrences of '.' with ','\n",
    "data = data.replace(',', '.')\n",
    "\n",
    "# Write the modified data back to the file\n",
    "with open(\"price.txt\", \"w\") as file:\n",
    "    file.write(data)"
   ]
  },
  {
   "cell_type": "code",
   "execution_count": null,
   "id": "79a23991",
   "metadata": {},
   "outputs": [],
   "source": [
    "# Open the file for reading - check if the data was modified\n",
    "with open(\"price.txt\", \"r\") as file:\n",
    "    # Read the contents of the file\n",
    "    text = file.read()\n",
    "print(text)"
   ]
  },
  {
   "cell_type": "code",
   "execution_count": null,
   "id": "8fa48c1b",
   "metadata": {},
   "outputs": [],
   "source": [
    "# merge the data from to txt file in one\n",
    "# open the first file and read its contents\n",
    "with open(\"date.txt\", \"r\") as file1:\n",
    "    data1 = file1.read().split()\n",
    "\n",
    "# Open the second file and read its contents\n",
    "with open(\"price.txt\", \"r\") as file2:\n",
    "    data2 = file2.read().split()\n",
    "\n",
    "# Combine the words using map function\n",
    "combined_data = list(map(lambda x, y: x + ' ' + y, data1, data2))\n",
    "\n",
    "# Write the combined data to a new file\n",
    "with open(\"combined.txt\", \"w\") as outfile:\n",
    "    outfile.write(\"\\n\".join(combined_data))"
   ]
  }
 ],
 "metadata": {
  "kernelspec": {
   "display_name": "Python 3 (ipykernel)",
   "language": "python",
   "name": "python3"
  },
  "language_info": {
   "codemirror_mode": {
    "name": "ipython",
    "version": 3
   },
   "file_extension": ".py",
   "mimetype": "text/x-python",
   "name": "python",
   "nbconvert_exporter": "python",
   "pygments_lexer": "ipython3",
   "version": "3.10.2"
  }
 },
 "nbformat": 4,
 "nbformat_minor": 5
}
